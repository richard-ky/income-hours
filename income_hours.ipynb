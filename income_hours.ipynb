{
  "nbformat": 4,
  "nbformat_minor": 0,
  "metadata": {
    "colab": {
      "name": "income-hours.ipynb",
      "provenance": [],
      "authorship_tag": "ABX9TyO62iHOOb0IjMccNYiI82gW",
      "include_colab_link": true
    },
    "kernelspec": {
      "name": "python3",
      "display_name": "Python 3"
    },
    "language_info": {
      "name": "python"
    }
  },
  "cells": [
    {
      "cell_type": "markdown",
      "metadata": {
        "id": "view-in-github",
        "colab_type": "text"
      },
      "source": [
        "<a href=\"https://colab.research.google.com/github/richardky30/income-hours/blob/main/income_hours.ipynb\" target=\"_parent\"><img src=\"https://colab.research.google.com/assets/colab-badge.svg\" alt=\"Open In Colab\"/></a>"
      ]
    },
    {
      "cell_type": "markdown",
      "source": [
        "Our files is relatively large (25 MB). Let's load it into Google Drive and then copy the path here."
      ],
      "metadata": {
        "id": "SEEGG0ddMkzp"
      }
    },
    {
      "cell_type": "code",
      "execution_count": null,
      "metadata": {
        "colab": {
          "base_uri": "https://localhost:8080/",
          "height": 241
        },
        "id": "QIN1Hpl7I8ls",
        "outputId": "32d41579-2a15-4f0b-a32d-ac10c7603878"
      },
      "outputs": [
        {
          "output_type": "stream",
          "name": "stdout",
          "text": [
            "Drive already mounted at /content/drive; to attempt to forcibly remount, call drive.mount(\"/content/drive\", force_remount=True).\n"
          ]
        },
        {
          "output_type": "execute_result",
          "data": {
            "text/html": [
              "\n",
              "  <div id=\"df-ce69e8dc-09d2-4225-9851-6a9083aa8313\">\n",
              "    <div class=\"colab-df-container\">\n",
              "      <div>\n",
              "<style scoped>\n",
              "    .dataframe tbody tr th:only-of-type {\n",
              "        vertical-align: middle;\n",
              "    }\n",
              "\n",
              "    .dataframe tbody tr th {\n",
              "        vertical-align: top;\n",
              "    }\n",
              "\n",
              "    .dataframe thead th {\n",
              "        text-align: right;\n",
              "    }\n",
              "</style>\n",
              "<table border=\"1\" class=\"dataframe\">\n",
              "  <thead>\n",
              "    <tr style=\"text-align: right;\">\n",
              "      <th></th>\n",
              "      <th>UHRSWORK</th>\n",
              "      <th>INCTOT</th>\n",
              "    </tr>\n",
              "  </thead>\n",
              "  <tbody>\n",
              "    <tr>\n",
              "      <th>0</th>\n",
              "      <td>0</td>\n",
              "      <td>9000</td>\n",
              "    </tr>\n",
              "    <tr>\n",
              "      <th>1</th>\n",
              "      <td>0</td>\n",
              "      <td>150</td>\n",
              "    </tr>\n",
              "    <tr>\n",
              "      <th>2</th>\n",
              "      <td>32</td>\n",
              "      <td>1400</td>\n",
              "    </tr>\n",
              "    <tr>\n",
              "      <th>3</th>\n",
              "      <td>0</td>\n",
              "      <td>22700</td>\n",
              "    </tr>\n",
              "    <tr>\n",
              "      <th>4</th>\n",
              "      <td>0</td>\n",
              "      <td>0</td>\n",
              "    </tr>\n",
              "  </tbody>\n",
              "</table>\n",
              "</div>\n",
              "      <button class=\"colab-df-convert\" onclick=\"convertToInteractive('df-ce69e8dc-09d2-4225-9851-6a9083aa8313')\"\n",
              "              title=\"Convert this dataframe to an interactive table.\"\n",
              "              style=\"display:none;\">\n",
              "        \n",
              "  <svg xmlns=\"http://www.w3.org/2000/svg\" height=\"24px\"viewBox=\"0 0 24 24\"\n",
              "       width=\"24px\">\n",
              "    <path d=\"M0 0h24v24H0V0z\" fill=\"none\"/>\n",
              "    <path d=\"M18.56 5.44l.94 2.06.94-2.06 2.06-.94-2.06-.94-.94-2.06-.94 2.06-2.06.94zm-11 1L8.5 8.5l.94-2.06 2.06-.94-2.06-.94L8.5 2.5l-.94 2.06-2.06.94zm10 10l.94 2.06.94-2.06 2.06-.94-2.06-.94-.94-2.06-.94 2.06-2.06.94z\"/><path d=\"M17.41 7.96l-1.37-1.37c-.4-.4-.92-.59-1.43-.59-.52 0-1.04.2-1.43.59L10.3 9.45l-7.72 7.72c-.78.78-.78 2.05 0 2.83L4 21.41c.39.39.9.59 1.41.59.51 0 1.02-.2 1.41-.59l7.78-7.78 2.81-2.81c.8-.78.8-2.07 0-2.86zM5.41 20L4 18.59l7.72-7.72 1.47 1.35L5.41 20z\"/>\n",
              "  </svg>\n",
              "      </button>\n",
              "      \n",
              "  <style>\n",
              "    .colab-df-container {\n",
              "      display:flex;\n",
              "      flex-wrap:wrap;\n",
              "      gap: 12px;\n",
              "    }\n",
              "\n",
              "    .colab-df-convert {\n",
              "      background-color: #E8F0FE;\n",
              "      border: none;\n",
              "      border-radius: 50%;\n",
              "      cursor: pointer;\n",
              "      display: none;\n",
              "      fill: #1967D2;\n",
              "      height: 32px;\n",
              "      padding: 0 0 0 0;\n",
              "      width: 32px;\n",
              "    }\n",
              "\n",
              "    .colab-df-convert:hover {\n",
              "      background-color: #E2EBFA;\n",
              "      box-shadow: 0px 1px 2px rgba(60, 64, 67, 0.3), 0px 1px 3px 1px rgba(60, 64, 67, 0.15);\n",
              "      fill: #174EA6;\n",
              "    }\n",
              "\n",
              "    [theme=dark] .colab-df-convert {\n",
              "      background-color: #3B4455;\n",
              "      fill: #D2E3FC;\n",
              "    }\n",
              "\n",
              "    [theme=dark] .colab-df-convert:hover {\n",
              "      background-color: #434B5C;\n",
              "      box-shadow: 0px 1px 3px 1px rgba(0, 0, 0, 0.15);\n",
              "      filter: drop-shadow(0px 1px 2px rgba(0, 0, 0, 0.3));\n",
              "      fill: #FFFFFF;\n",
              "    }\n",
              "  </style>\n",
              "\n",
              "      <script>\n",
              "        const buttonEl =\n",
              "          document.querySelector('#df-ce69e8dc-09d2-4225-9851-6a9083aa8313 button.colab-df-convert');\n",
              "        buttonEl.style.display =\n",
              "          google.colab.kernel.accessAllowed ? 'block' : 'none';\n",
              "\n",
              "        async function convertToInteractive(key) {\n",
              "          const element = document.querySelector('#df-ce69e8dc-09d2-4225-9851-6a9083aa8313');\n",
              "          const dataTable =\n",
              "            await google.colab.kernel.invokeFunction('convertToInteractive',\n",
              "                                                     [key], {});\n",
              "          if (!dataTable) return;\n",
              "\n",
              "          const docLinkHtml = 'Like what you see? Visit the ' +\n",
              "            '<a target=\"_blank\" href=https://colab.research.google.com/notebooks/data_table.ipynb>data table notebook</a>'\n",
              "            + ' to learn more about interactive tables.';\n",
              "          element.innerHTML = '';\n",
              "          dataTable['output_type'] = 'display_data';\n",
              "          await google.colab.output.renderOutput(dataTable, element);\n",
              "          const docLink = document.createElement('div');\n",
              "          docLink.innerHTML = docLinkHtml;\n",
              "          element.appendChild(docLink);\n",
              "        }\n",
              "      </script>\n",
              "    </div>\n",
              "  </div>\n",
              "  "
            ],
            "text/plain": [
              "   UHRSWORK  INCTOT\n",
              "0         0    9000\n",
              "1         0     150\n",
              "2        32    1400\n",
              "3         0   22700\n",
              "4         0       0"
            ]
          },
          "metadata": {},
          "execution_count": 1
        }
      ],
      "source": [
        "import pandas as pd \n",
        "from google.colab import drive\n",
        "drive.mount('/content/drive')\n",
        "df = pd.read_csv('/content/drive/MyDrive/data/usa_00004.csv')\n",
        "df.head()"
      ]
    },
    {
      "cell_type": "markdown",
      "source": [
        "How many samples do we have?"
      ],
      "metadata": {
        "id": "Grj9l1OyMfGs"
      }
    },
    {
      "cell_type": "code",
      "source": [
        "len(df)"
      ],
      "metadata": {
        "colab": {
          "base_uri": "https://localhost:8080/"
        },
        "id": "KCqSk-nXMRC3",
        "outputId": "8580e8d6-4006-4bb4-f2e0-b4a7d936b17f"
      },
      "execution_count": null,
      "outputs": [
        {
          "output_type": "execute_result",
          "data": {
            "text/plain": [
              "3239553"
            ]
          },
          "metadata": {},
          "execution_count": 2
        }
      ]
    },
    {
      "cell_type": "markdown",
      "source": [
        "Wow, that's a lot!"
      ],
      "metadata": {
        "id": "xHDUvBdeMhzs"
      }
    },
    {
      "cell_type": "code",
      "source": [
        "from sklearn.linear_model import LinearRegression as lr\n",
        "x = pd.DataFrame(df.UHRSWORK)\n",
        "y = df.INCTOT\n",
        "model = lr().fit(x, y)\n",
        "r_sq = model.score(x, y)\n",
        "print(\"The coefficient of determination is\", r_sq)\n",
        "print(\"The y-intercept is\", model.intercept_)\n",
        "print(\"The coefficient is\", model.coef_)\n",
        "y_pred = model.predict(x)\n",
        "print(\"The predicted response is\", y_pred, sep='\\n')"
      ],
      "metadata": {
        "colab": {
          "base_uri": "https://localhost:8080/"
        },
        "id": "przFJOA_23rC",
        "outputId": "c4c79029-f5dd-45be-b70d-314fc17a2297"
      },
      "execution_count": null,
      "outputs": [
        {
          "output_type": "stream",
          "name": "stdout",
          "text": [
            "The coefficient of determination is 0.16222310610079538\n",
            "The y-intercept is 3028382.5803736877\n",
            "The coefficient is [-69296.11264377]\n",
            "The predicted response is\n",
            "[3028382.58037369 3028382.58037369  810906.97577302 ... 3028382.58037369\n",
            " 3028382.58037369 3028382.58037369]\n"
          ]
        }
      ]
    },
    {
      "cell_type": "markdown",
      "source": [
        "That seems a bit strange. Let's investigate."
      ],
      "metadata": {
        "id": "ZwZnV-FjDh7K"
      }
    },
    {
      "cell_type": "code",
      "source": [
        "df.max()"
      ],
      "metadata": {
        "colab": {
          "base_uri": "https://localhost:8080/"
        },
        "id": "5XNFwe6xE9TE",
        "outputId": "79e58cfc-941b-436f-8e5b-4882920e5136"
      },
      "execution_count": null,
      "outputs": [
        {
          "output_type": "execute_result",
          "data": {
            "text/plain": [
              "UHRSWORK         99\n",
              "INCTOT      9999999\n",
              "dtype: int64"
            ]
          },
          "metadata": {},
          "execution_count": 4
        }
      ]
    },
    {
      "cell_type": "markdown",
      "source": [
        "We forgot to remove the N/A values! They are 00 for UHRSWORK and 9999999 for INCTOT. Also, 99 in UHRSWORK indicates a top-coded data observation."
      ],
      "metadata": {
        "id": "AwlYkZYBH81E"
      }
    },
    {
      "cell_type": "code",
      "source": [
        "df = df[df.UHRSWORK != 0]\n",
        "df = df[df.INCTOT != 9999999]"
      ],
      "metadata": {
        "id": "b3JlGx53Ij2f"
      },
      "execution_count": null,
      "outputs": []
    },
    {
      "cell_type": "code",
      "source": [
        "x = pd.DataFrame(df.UHRSWORK)\n",
        "y = df.INCTOT\n",
        "model = lr().fit(x, y)\n",
        "r_sq = model.score(x, y)\n",
        "print(\"The coefficient of determination is\", r_sq)\n",
        "print(\"The y-intercept is\", model.intercept_)\n",
        "print(\"The coefficient is\", model.coef_)\n",
        "y_pred = model.predict(x)\n",
        "print(\"The predicted response is\", y_pred[:8], sep='\\n')"
      ],
      "metadata": {
        "colab": {
          "base_uri": "https://localhost:8080/"
        },
        "id": "vTaeC8jgJjsh",
        "outputId": "3df6f72d-dbf9-4af3-80d7-5d9d6d4923eb"
      },
      "execution_count": null,
      "outputs": [
        {
          "output_type": "stream",
          "name": "stdout",
          "text": [
            "The coefficient of determination is 0.08602565076795865\n",
            "The y-intercept is -4532.8039325639475\n",
            "The coefficient is [1687.33738866]\n",
            "The predicted response is\n",
            "[ 49461.99250444  62960.69161369  47774.65511578  62960.69161369\n",
            "  15715.24473131  62960.69161369  29213.94384056 113580.81327337]\n"
          ]
        }
      ]
    },
    {
      "cell_type": "markdown",
      "source": [
        "That's better! But how about polynomial regression?"
      ],
      "metadata": {
        "id": "ozg2KJR-J7h7"
      }
    },
    {
      "cell_type": "code",
      "source": [
        "from sklearn.preprocessing import PolynomialFeatures as pf\n",
        "x_ = pf(include_bias=False).fit_transform(x)\n",
        "model = lr().fit(x_, y)\n",
        "r_sq = model.score(x_, y)\n",
        "print(\"The coefficient of determination is\", r_sq)\n",
        "print(\"The y-intercept is\", model.intercept_)\n",
        "print(\"The coefficients are\", model.coef_)\n",
        "y_pred = model.predict(x_)\n",
        "print(\"The predicted response is\", y_pred[:8], sep='\\n')"
      ],
      "metadata": {
        "colab": {
          "base_uri": "https://localhost:8080/"
        },
        "id": "7b8fc7aRJ7JZ",
        "outputId": "1a70f9aa-c75f-45ef-da4a-72982715beff"
      },
      "execution_count": null,
      "outputs": [
        {
          "output_type": "stream",
          "name": "stdout",
          "text": [
            "The coefficient of determination is 0.08602811115700015\n",
            "The y-intercept is -4958.571575994414\n",
            "The coefficients are [ 1.71335936e+03 -3.47240999e-01]\n",
            "The predicted response is\n",
            "[ 49513.35301163  63020.21703877  47821.86983924  63020.21703877\n",
            "  15551.73798419  63020.21703877  29169.7191311  113275.10240137]\n"
          ]
        }
      ]
    },
    {
      "cell_type": "markdown",
      "source": [
        "Now let's try out statsmodels."
      ],
      "metadata": {
        "id": "pZk3bdGzNjTZ"
      }
    },
    {
      "cell_type": "code",
      "source": [
        "import statsmodels.api as sm\n",
        "x['INCTOT'] = 1\n",
        "model = sm.OLS(y, x)\n",
        "results = model.fit()\n",
        "results.summary()"
      ],
      "metadata": {
        "colab": {
          "base_uri": "https://localhost:8080/",
          "height": 498
        },
        "id": "hDSGYLCDNmLn",
        "outputId": "684190d6-20bd-4ba2-8098-87e08dc93442"
      },
      "execution_count": null,
      "outputs": [
        {
          "output_type": "stream",
          "name": "stderr",
          "text": [
            "/usr/local/lib/python3.7/dist-packages/statsmodels/tools/_testing.py:19: FutureWarning: pandas.util.testing is deprecated. Use the functions in the public API at pandas.testing instead.\n",
            "  import pandas.util.testing as tm\n"
          ]
        },
        {
          "output_type": "execute_result",
          "data": {
            "text/html": [
              "<table class=\"simpletable\">\n",
              "<caption>OLS Regression Results</caption>\n",
              "<tr>\n",
              "  <th>Dep. Variable:</th>         <td>INCTOT</td>      <th>  R-squared:         </th>  <td>   0.086</td>  \n",
              "</tr>\n",
              "<tr>\n",
              "  <th>Model:</th>                   <td>OLS</td>       <th>  Adj. R-squared:    </th>  <td>   0.086</td>  \n",
              "</tr>\n",
              "<tr>\n",
              "  <th>Method:</th>             <td>Least Squares</td>  <th>  F-statistic:       </th>  <td>1.587e+05</td> \n",
              "</tr>\n",
              "<tr>\n",
              "  <th>Date:</th>             <td>Thu, 03 Mar 2022</td> <th>  Prob (F-statistic):</th>   <td>  0.00</td>   \n",
              "</tr>\n",
              "<tr>\n",
              "  <th>Time:</th>                 <td>19:46:40</td>     <th>  Log-Likelihood:    </th> <td>-2.1283e+07</td>\n",
              "</tr>\n",
              "<tr>\n",
              "  <th>No. Observations:</th>      <td>1686350</td>     <th>  AIC:               </th>  <td>4.257e+07</td> \n",
              "</tr>\n",
              "<tr>\n",
              "  <th>Df Residuals:</th>          <td>1686348</td>     <th>  BIC:               </th>  <td>4.257e+07</td> \n",
              "</tr>\n",
              "<tr>\n",
              "  <th>Df Model:</th>              <td>     1</td>      <th>                     </th>      <td> </td>     \n",
              "</tr>\n",
              "<tr>\n",
              "  <th>Covariance Type:</th>      <td>nonrobust</td>    <th>                     </th>      <td> </td>     \n",
              "</tr>\n",
              "</table>\n",
              "<table class=\"simpletable\">\n",
              "<tr>\n",
              "      <td></td>        <th>coef</th>     <th>std err</th>      <th>t</th>      <th>P>|t|</th>  <th>[0.025</th>    <th>0.975]</th>  \n",
              "</tr>\n",
              "<tr>\n",
              "  <th>UHRSWORK</th> <td> 1687.3374</td> <td>    4.235</td> <td>  398.401</td> <td> 0.000</td> <td> 1679.036</td> <td> 1695.638</td>\n",
              "</tr>\n",
              "<tr>\n",
              "  <th>INCTOT</th>   <td>-4532.8039</td> <td>  170.802</td> <td>  -26.538</td> <td> 0.000</td> <td>-4867.571</td> <td>-4198.037</td>\n",
              "</tr>\n",
              "</table>\n",
              "<table class=\"simpletable\">\n",
              "<tr>\n",
              "  <th>Omnibus:</th>       <td>1647505.757</td> <th>  Durbin-Watson:     </th>   <td>   1.820</td>  \n",
              "</tr>\n",
              "<tr>\n",
              "  <th>Prob(Omnibus):</th>   <td> 0.000</td>    <th>  Jarque-Bera (JB):  </th> <td>93761465.879</td>\n",
              "</tr>\n",
              "<tr>\n",
              "  <th>Skew:</th>            <td> 4.803</td>    <th>  Prob(JB):          </th>   <td>    0.00</td>  \n",
              "</tr>\n",
              "<tr>\n",
              "  <th>Kurtosis:</th>        <td>38.244</td>    <th>  Cond. No.          </th>   <td>    122.</td>  \n",
              "</tr>\n",
              "</table><br/><br/>Warnings:<br/>[1] Standard Errors assume that the covariance matrix of the errors is correctly specified."
            ],
            "text/plain": [
              "<class 'statsmodels.iolib.summary.Summary'>\n",
              "\"\"\"\n",
              "                            OLS Regression Results                            \n",
              "==============================================================================\n",
              "Dep. Variable:                 INCTOT   R-squared:                       0.086\n",
              "Model:                            OLS   Adj. R-squared:                  0.086\n",
              "Method:                 Least Squares   F-statistic:                 1.587e+05\n",
              "Date:                Thu, 03 Mar 2022   Prob (F-statistic):               0.00\n",
              "Time:                        19:46:40   Log-Likelihood:            -2.1283e+07\n",
              "No. Observations:             1686350   AIC:                         4.257e+07\n",
              "Df Residuals:                 1686348   BIC:                         4.257e+07\n",
              "Df Model:                           1                                         \n",
              "Covariance Type:            nonrobust                                         \n",
              "==============================================================================\n",
              "                 coef    std err          t      P>|t|      [0.025      0.975]\n",
              "------------------------------------------------------------------------------\n",
              "UHRSWORK    1687.3374      4.235    398.401      0.000    1679.036    1695.638\n",
              "INCTOT     -4532.8039    170.802    -26.538      0.000   -4867.571   -4198.037\n",
              "==============================================================================\n",
              "Omnibus:                  1647505.757   Durbin-Watson:                   1.820\n",
              "Prob(Omnibus):                  0.000   Jarque-Bera (JB):         93761465.879\n",
              "Skew:                           4.803   Prob(JB):                         0.00\n",
              "Kurtosis:                      38.244   Cond. No.                         122.\n",
              "==============================================================================\n",
              "\n",
              "Warnings:\n",
              "[1] Standard Errors assume that the covariance matrix of the errors is correctly specified.\n",
              "\"\"\""
            ]
          },
          "metadata": {},
          "execution_count": 8
        }
      ]
    },
    {
      "cell_type": "code",
      "source": [
        "print(\"The coefficient of determination is\", results.rsquared)\n",
        "print(\"The adjusted coefficient of determination is\", results.rsquared_adj)\n",
        "print(\"The regression coefficients are\", results.params.to_string(index=False), sep='\\n')\n",
        "print(\"The predicted responses are\", results.predict(x)[:6].to_string(index=False), sep='\\n')"
      ],
      "metadata": {
        "colab": {
          "base_uri": "https://localhost:8080/"
        },
        "id": "oBqe42NSRlcF",
        "outputId": "7d86a435-f1ec-4c0b-aec6-27d70713fe9a"
      },
      "execution_count": null,
      "outputs": [
        {
          "output_type": "stream",
          "name": "stdout",
          "text": [
            "The coefficient of determination is 0.0860256507679441\n",
            "The adjusted coefficient of determination is 0.08602510878352032\n",
            "The regression coefficients are\n",
            " 1687.337389\n",
            "-4532.803933\n",
            "The predicted responses are\n",
            "49461.992504\n",
            "62960.691614\n",
            "47774.655116\n",
            "62960.691614\n",
            "15715.244731\n",
            "62960.691614\n"
          ]
        }
      ]
    }
  ]
}